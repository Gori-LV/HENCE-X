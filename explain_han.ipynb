{
 "cells": [
  {
   "cell_type": "code",
   "execution_count": 1,
   "metadata": {},
   "outputs": [],
   "source": [
    "import os.path as osp\n",
    "\n",
    "import torch\n",
    "import torch_geometric.transforms as T\n",
    "\n",
    "from util import IMDB\n",
    "from models import HAN\n",
    "from explainer import HeterExplainer\n"
   ]
  },
  {
   "cell_type": "code",
   "execution_count": 5,
   "metadata": {},
   "outputs": [
    {
     "name": "stdout",
     "output_type": "stream",
     "text": [
      "HeteroData(\n",
      "  metapath_dict={\n",
      "    (movie, metapath_0, movie)=[2],\n",
      "    (movie, metapath_1, movie)=[2]\n",
      "  },\n",
      "  \u001b[1mmovie\u001b[0m={\n",
      "    x=[4278, 3066],\n",
      "    y=[4278],\n",
      "    train_mask=[4278],\n",
      "    val_mask=[4278],\n",
      "    test_mask=[4278]\n",
      "  },\n",
      "  \u001b[1m(movie, metapath_0, movie)\u001b[0m={ edge_index=[2, 85358] },\n",
      "  \u001b[1m(movie, metapath_1, movie)\u001b[0m={ edge_index=[2, 17446] }\n",
      ")\n"
     ]
    }
   ],
   "source": [
    "dataset_name = 'IMDB'\n",
    "\n",
    "path = 'data/IMDB/'\n",
    "metapaths = [[('movie', 'actor'), ('actor', 'movie')],\n",
    "             [('movie', 'director'), ('director', 'movie')]]\n",
    "transform = T.AddMetaPaths(metapaths=metapaths, drop_orig_edges=True,\n",
    "                           drop_unconnected_nodes=True)\n",
    "dataset = IMDB(path, transform=transform)\n",
    "data = dataset[0]\n",
    "print(data)"
   ]
  },
  {
   "cell_type": "code",
   "execution_count": 7,
   "metadata": {},
   "outputs": [
    {
     "name": "stdout",
     "output_type": "stream",
     "text": [
      "Trained model loaded.\n"
     ]
    }
   ],
   "source": [
    "hidden_channels = 128\n",
    "out_channels = 3\n",
    "num_heads = 8\n",
    "metadata = data.metadata()\n",
    "\n",
    "ckpt_name = '_'.join((dataset_name, 'hDim', str(hidden_channels), 'nHead', str(num_heads)))\n",
    "ckpt_path = 'checkpoints/'+ckpt_name+'.pt'\n",
    "\n",
    "\n",
    "model = HAN(in_channels=-1, out_channels=out_channels, hidden_channels=hidden_channels, heads=num_heads, metadata=metadata)\n",
    "\n",
    "checkpoint = torch.load(ckpt_path)\n",
    "model.load_state_dict(checkpoint['net'])\n",
    "print('Trained model loaded.')"
   ]
  },
  {
   "cell_type": "code",
   "execution_count": 8,
   "metadata": {},
   "outputs": [
    {
     "name": "stdout",
     "output_type": "stream",
     "text": [
      "Explainer (heter) set up on cpu\n"
     ]
    }
   ],
   "source": [
    "device = torch.device('cuda' if torch.cuda.is_available() else 'cpu')\n",
    "data, model = data.to(device), model.to(device)\n",
    "\n",
    "explainer = HeterExplainer(model, dataset_name, x_dict=data.x_dict, edge_index_dict=data.edge_index_dict, device=device)\n",
    "\n",
    "num_samples = 1000\n",
    "p_threshold = .05\n",
    "p_perturb = 0.5\n",
    "pred_threshold = .01\n",
    "k = 10\n",
    "\n",
    "target = 15\n",
    "zero_feature_cases = (data['movie'].x.sum(dim=-1)==0).nonzero().cpu().numpy().T[0].tolist()\n",
    "\n",
    "if target in zero_feature_cases:\n",
    "    raise ValueError(\"target in zero feature cases\")\n"
   ]
  },
  {
   "cell_type": "code",
   "execution_count": null,
   "metadata": {},
   "outputs": [
    {
     "name": "stdout",
     "output_type": "stream",
     "text": [
      "Generating 4650 samples on target: 15\n"
     ]
    }
   ],
   "source": [
    "S, raw_feature_exp, feature_exp, time_used = explainer.explain(target, num_samples=num_samples,  k=k, p_perturb=p_perturb, p_threshold=p_threshold, pred_threshold=pred_threshold)\n",
    "print(explainer.calFidelity(target, S, feature_exp))\n",
    "\n",
    "\n",
    "factual_S, factual_feat_exp = explainer.factual_synMLE(target, S, raw_feature_exp, num_samples=num_samples, k=k, p_perturb=p_perturb)\n",
    "print(explainer.calFidelity(target, factual_S, factual_feat_exp))\n",
    "explainer.printMeaningIMDB(factual_S, factual_feat_exp)\n",
    "\n",
    "# counterfactual_S, counterfactual_feat_exp = explainer.counterfactual_synMLE(target, S, raw_feature_exp, n_cat_value=n_cat_value, num_samples=num_samples, k=k, p_perturb=p_perturb, pred_threshold=0.0000001)\n",
    "counterfactual_S, counterfactual_feat_exp = explainer.counterfactual_synMLE(target, S, raw_feature_exp, num_samples=num_samples, k=k, p_perturb=p_perturb)\n",
    "print(explainer.calFidelity(target, counterfactual_S, counterfactual_feat_exp))\n",
    "explainer.printMeaningIMDB(counterfactual_S, counterfactual_feat_exp)\n",
    "\n",
    "# explainer.printMeaningIMDB(S, feature_exp)\n",
    "# explainer.printMeaningIMDB(factual_S, factual_feat_exp)\n",
    "# explainer.printMeaningIMDB(counterfactual_S, counterfactual_feat_exp)\n"
   ]
  },
  {
   "cell_type": "code",
   "execution_count": null,
   "metadata": {},
   "outputs": [],
   "source": []
  }
 ],
 "metadata": {
  "kernelspec": {
   "display_name": "Python 3",
   "language": "python",
   "name": "python3"
  },
  "language_info": {
   "codemirror_mode": {
    "name": "ipython",
    "version": 3
   },
   "file_extension": ".py",
   "mimetype": "text/x-python",
   "name": "python",
   "nbconvert_exporter": "python",
   "pygments_lexer": "ipython3",
   "version": "3.8.6"
  }
 },
 "nbformat": 4,
 "nbformat_minor": 4
}

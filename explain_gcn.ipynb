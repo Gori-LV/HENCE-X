{
 "cells": [
  {
   "cell_type": "code",
   "execution_count": 1,
   "metadata": {},
   "outputs": [],
   "source": [
    "import os.path as osp\n",
    "\n",
    "import torch\n",
    "\n",
    "from torch_geometric.datasets import TUDataset\n",
    "from torch_geometric.utils import k_hop_subgraph, to_networkx\n",
    "\n",
    "from models import GCN\n",
    "from explainer import HeterExplainer\n",
    "\n",
    "import numpy as np"
   ]
  },
  {
   "cell_type": "code",
   "execution_count": 4,
   "metadata": {},
   "outputs": [
    {
     "data": {
      "text/plain": [
       "<All keys matched successfully>"
      ]
     },
     "execution_count": 4,
     "metadata": {},
     "output_type": "execute_result"
    }
   ],
   "source": [
    "dataset_name = 'MUTAG'\n",
    "path = 'data/TU'\n",
    "\n",
    "dataset = TUDataset(path, name=dataset_name)\n",
    "ckpt_name = '_'.join((dataset_name, 'GCN'))\n",
    "ckpt_path = 'checkpoints/'+ckpt_name+'.pt'\n",
    "\n",
    "\n",
    "device = torch.device('cuda' if torch.cuda.is_available() else 'cpu')\n",
    "model = GCN(dataset.num_features, dataset.num_classes).to(device)\n",
    "\n",
    "checkpoint = torch.load(ckpt_path)\n",
    "model.load_state_dict(checkpoint['net'])"
   ]
  },
  {
   "cell_type": "code",
   "execution_count": 5,
   "metadata": {},
   "outputs": [
    {
     "name": "stdout",
     "output_type": "stream",
     "text": [
      "Explainer (homo) set up on cpu\n"
     ]
    }
   ],
   "source": [
    "explainer = HeterExplainer(model, dataset_name, MUTAG_dataset=dataset, device=device)\n",
    "\n",
    "num_samples = 1000\n",
    "p_threshold = .05\n",
    "p_perturb = 0.91\n",
    "pred_threshold = 0.09\n",
    "k = 10"
   ]
  },
  {
   "cell_type": "code",
   "execution_count": 7,
   "metadata": {},
   "outputs": [
    {
     "name": "stdout",
     "output_type": "stream",
     "text": [
      "Generating 1000 samples on target: 73\n",
      "new p perturb: 0.0827391304347826\n",
      "(0.01086801290512085, 0.9717560289427638, 0.0057013751938939095, 0.0062111801242235995, 0.043478260869565216, 0.14285714285714285, {4: 0.14285714285714285})\n",
      "(0.01086801290512085, 0.9717560289427638, 0.0057013751938939095, 0.0062111801242235995, 0.043478260869565216, 0.14285714285714285, {4: 0.14285714285714285})\n",
      "(0.01086801290512085, 0.9717560289427638, 0.0057013751938939095, 0.0062111801242235995, 0.043478260869565216, 0.14285714285714285, {4: 0.14285714285714285})\n"
     ]
    }
   ],
   "source": [
    "test_case = [i for i in range(len(dataset)) if dataset[i].y.item()==1] # explain mutagenic class only\n",
    "\n",
    "target = test_case[53]\n",
    "\n",
    "if target not in test_case:\n",
    "    raise ValueError('target not in test case.')\n",
    "    \n",
    "data = dataset[target]\n",
    "\n",
    "S, raw_feature_exp, feature_exp, time_used = explainer.explain(target, num_samples=num_samples, k=k, p_perturb=p_perturb, p_threshold=p_threshold, pred_threshold=pred_threshold)\n",
    "print(explainer.homoCalFidelity(target, S, feature_exp, evaluator=False))\n",
    "\n",
    "factual_S, factual_feat_exp = explainer.factual_synMLE(target, S, raw_feature_exp, num_samples=num_samples, k=k, p_perturb=p_perturb)\n",
    "print(explainer.homoCalFidelity(target, factual_S, factual_feat_exp))\n",
    "\n",
    "counterfactual_S, counterfactual_feat_exp = explainer.counterfactual_synMLE(target, S, raw_feature_exp, num_samples=num_samples, k=k, p_perturb=p_perturb)\n",
    "print(explainer.homoCalFidelity(target, counterfactual_S, counterfactual_feat_exp))"
   ]
  }
 ],
 "metadata": {
  "kernelspec": {
   "display_name": "Python 3",
   "language": "python",
   "name": "python3"
  },
  "language_info": {
   "codemirror_mode": {
    "name": "ipython",
    "version": 3
   },
   "file_extension": ".py",
   "mimetype": "text/x-python",
   "name": "python",
   "nbconvert_exporter": "python",
   "pygments_lexer": "ipython3",
   "version": "3.8.6"
  }
 },
 "nbformat": 4,
 "nbformat_minor": 4
}

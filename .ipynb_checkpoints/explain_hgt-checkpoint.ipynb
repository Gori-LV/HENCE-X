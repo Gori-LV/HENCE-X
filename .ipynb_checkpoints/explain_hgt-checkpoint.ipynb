{
 "cells": [
  {
   "cell_type": "code",
   "execution_count": 1,
   "metadata": {},
   "outputs": [],
   "source": [
    "import os.path as osp\n",
    "import torch\n",
    "\n",
    "from models import HGT\n",
    "from util import DBLP\n",
    "from explainer import HeterExplainer"
   ]
  },
  {
   "cell_type": "code",
   "execution_count": 2,
   "metadata": {},
   "outputs": [
    {
     "name": "stdout",
     "output_type": "stream",
     "text": [
      "WARNING: the dataset is re-processed\n"
     ]
    }
   ],
   "source": [
    "dataset_name = 'DBLP'\n",
    "# data_path = osp.join(osp.dirname(osp.realpath(__file__)), 'data', dataset_name)\n",
    "data_path = 'data/DBLP/'\n",
    "dataset = DBLP(data_path)\n",
    "data = dataset[0]\n",
    "print('WARNING: the dataset is re-processed') # reconstructed dataset: author-dim 451, paper-dim 4233\n",
    "# print(data)\n",
    "\n",
    "data['conference'].x = torch.ones(data['conference'].num_nodes, 1)\n",
    "\n",
    "n_types = data.metadata()[0]\n",
    "n_types.remove('term')\n",
    "e_types = [edge for edge in data.metadata()[1] if 'term' not in edge]\n",
    "e_types_to_remove = [edge for edge in data.metadata()[1] if 'term' in edge]\n",
    "meta = tuple([n_types, e_types])\n",
    "\n",
    "### fix Linear -1 dim error\n",
    "node_types = {node_type:data[node_type].x.size(1) for node_type in n_types}\n",
    "\n",
    "x_dict = data.x_dict\n",
    "x_dict.pop('term')\n",
    "edge_index_dict = data.edge_index_dict\n",
    "for e in e_types_to_remove:\n",
    "    edge_index_dict.pop(e)"
   ]
  },
  {
   "cell_type": "code",
   "execution_count": 3,
   "metadata": {},
   "outputs": [
    {
     "data": {
      "text/plain": [
       "<All keys matched successfully>"
      ]
     },
     "execution_count": 3,
     "metadata": {},
     "output_type": "execute_result"
    }
   ],
   "source": [
    "hidden_channels=64\n",
    "out_channels=4\n",
    "num_heads=2\n",
    "num_layers=2\n",
    "\n",
    "ckpt_name = '_'.join((dataset_name, 'inDim', str(hidden_channels), 'nHead', str(num_heads),'nLayer', str(num_layers)))\n",
    "ckpt_name+='_noTerm'\n",
    "# ckpt_path = osp.join(osp.dirname(osp.realpath(__file__)), 'checkpoints', ckpt_name+'.pt')\n",
    "ckpt_path = 'checkpoints/'+ckpt_name+'.pt'\n",
    "model = HGT(hidden_channels=hidden_channels, out_channels=out_channels, num_heads=num_heads, num_layers=num_layers, node_types=node_types, metadata = meta)\n",
    "\n",
    "device = torch.device('cuda' if torch.cuda.is_available() else 'cpu')\n",
    "data, model = data.to(device), model.to(device)\n",
    "\n",
    "checkpoint = torch.load(ckpt_path)\n",
    "model.load_state_dict(checkpoint['net'])\n"
   ]
  },
  {
   "cell_type": "code",
   "execution_count": 8,
   "metadata": {},
   "outputs": [
    {
     "name": "stdout",
     "output_type": "stream",
     "text": [
      "Explainer (heter) set up on cpu\n",
      "Generating 1000 samples on target: 958\n",
      "(0.9991315856750589, 0.0007026195526123047, 0.9986483454704285, 0.13333333333333333, 0.16666666666666666, 0.8, {9580: 0.8})\n",
      "(0.9991315856750589, 0.0007026195526123047, 0.9986483454704285, 0.13333333333333333, 0.16666666666666666, 0.8, {9580: 0.8})\n",
      "9580\n",
      "[0 'Joan Feigenbaum']\n",
      "['finding' 'generation' 'experiment' 'efficiently' 'pruning']\n",
      "9580\n",
      "[0 'Joan Feigenbaum']\n",
      "['generation' 'experiment' 'efficiently' 'pruning']\n",
      "9580\n",
      "[0 'Joan Feigenbaum']\n",
      "['generation' 'experiment' 'efficiently' 'pruning']\n"
     ]
    }
   ],
   "source": [
    "explainer = HeterExplainer(model, dataset_name, x_dict=x_dict, edge_index_dict=edge_index_dict, device=device)\n",
    "\n",
    "num_samples = 1000\n",
    "p_threshold = .05\n",
    "p_perturb = 0.5\n",
    "pred_threshold = .01 # sigma\n",
    "k = 10\n",
    "\n",
    "zero_feature_cases = (data['author'].x.sum(dim=-1)==0).nonzero().cpu().numpy().T[0].tolist()\n",
    "test_case = [i for i in range(data['author'].num_nodes) if i not in zero_feature_cases]\n",
    "\n",
    "target = 958 # example used in the paper\n",
    "S, raw_feature_exp, feature_exp, time_used = explainer.explain(target, num_samples=num_samples, k=k, p_perturb=p_perturb, p_threshold=p_threshold, pred_threshold=pred_threshold)\n",
    "\n",
    "factual_S, factual_feat_exp = explainer.factual_synMLE(target, S, raw_feature_exp, num_samples=num_samples, k=k, p_perturb=p_perturb)\n",
    "print(explainer.calFidelity(target, factual_S, factual_feat_exp))\n",
    "\n",
    "counterfactual_S, counterfactual_feat_exp = explainer.counterfactual_synMLE(target, S, raw_feature_exp, num_samples=num_samples, k=k, p_perturb=p_perturb)\n",
    "# counterfactual_S, counterfactual_feat_exp = explainer.counterfactual_synMLE(target, S, raw_feature_exp, n_cat_value=n_cat_value, num_samples=num_samples, k=k, p_perturb=p_perturb, pred_threshold=pred_threshold)\n",
    "print(explainer.calFidelity(target, counterfactual_S, counterfactual_feat_exp))\n",
    "\n",
    "explainer.printMeaningDBLP(S, feature_exp)\n",
    "explainer.printMeaningDBLP(factual_S, factual_feat_exp)\n",
    "explainer.printMeaningDBLP(counterfactual_S, counterfactual_feat_exp)\n"
   ]
  },
  {
   "cell_type": "code",
   "execution_count": null,
   "metadata": {},
   "outputs": [],
   "source": []
  }
 ],
 "metadata": {
  "kernelspec": {
   "display_name": "Python 3",
   "language": "python",
   "name": "python3"
  },
  "language_info": {
   "codemirror_mode": {
    "name": "ipython",
    "version": 3
   },
   "file_extension": ".py",
   "mimetype": "text/x-python",
   "name": "python",
   "nbconvert_exporter": "python",
   "pygments_lexer": "ipython3",
   "version": "3.8.6"
  }
 },
 "nbformat": 4,
 "nbformat_minor": 4
}
